{
 "cells": [
  {
   "cell_type": "code",
   "execution_count": 1,
   "id": "381394f0",
   "metadata": {},
   "outputs": [],
   "source": [
    "from pyspark.sql import functions as F\n",
    "from pyspark.sql.functions import explode\n",
    "from pyspark.sql.functions import split\n",
    "from pyspark.sql.types import StringType, StructType, StructField, FloatType\n",
    "from pyspark.sql import SparkSession\n",
    "from pyspark.sql.functions import from_json, col, udf\n",
    "from pyspark.ml.feature import Tokenizer, RegexTokenizer\n",
    "import re\n",
    "from textblob import TextBlob"
   ]
  },
  {
   "cell_type": "code",
   "execution_count": 2,
   "id": "224da59e",
   "metadata": {},
   "outputs": [],
   "source": [
    "#- Création d'une instance du Spark\n",
    "spark = SparkSession \\\n",
    "    .builder \\\n",
    "    .appName(\"HespressChallenge\") \\\n",
    "    .config(\"spark.jars.packages\", \"org.apache.spark:spark-sql-kafka-0-10_2.12:3.1.2\") \\\n",
    "    .getOrCreate()"
   ]
  },
  {
   "cell_type": "code",
   "execution_count": 3,
   "id": "33e338df",
   "metadata": {},
   "outputs": [],
   "source": [
    "#- Définition de Schema du tableau\n",
    "schema = StructType([ \\\n",
    "    StructField(\"author\", StringType()), \\\n",
    "    StructField(\"text\", StringType())])\n",
    "\n",
    "#- Création d'une instance pour le flux des données en temps réel\n",
    "df = spark \\\n",
    "    .readStream \\\n",
    "    .format(\"kafka\") \\\n",
    "    .option(\"kafka.bootstrap.servers\", \"localhost:9092\") \\\n",
    "    .option(\"subscribe\", \"comments_hespress\") \\\n",
    "    .load()\n",
    "\n",
    "values = df.select(from_json(df.value.cast(\"string\"), schema).alias(\"commentaire\"))"
   ]
  },
  {
   "cell_type": "code",
   "execution_count": 4,
   "id": "06bed9d0",
   "metadata": {},
   "outputs": [],
   "source": [
    "df1 = values.select(\"commentaire.*\")\n",
    "column_author = df1.withColumn('author', col(\"author\"))"
   ]
  },
  {
   "cell_type": "code",
   "execution_count": null,
   "id": "463e32ba",
   "metadata": {},
   "outputs": [],
   "source": [
    "query = column_author.writeStream.outputMode(\"append\").format(\"console\").start()\n",
    "query.awaitTermination()"
   ]
  }
 ],
 "metadata": {
  "kernelspec": {
   "display_name": "Python 3 (ipykernel)",
   "language": "python",
   "name": "python3"
  },
  "language_info": {
   "codemirror_mode": {
    "name": "ipython",
    "version": 3
   },
   "file_extension": ".py",
   "mimetype": "text/x-python",
   "name": "python",
   "nbconvert_exporter": "python",
   "pygments_lexer": "ipython3",
   "version": "3.9.12"
  }
 },
 "nbformat": 4,
 "nbformat_minor": 5
}
