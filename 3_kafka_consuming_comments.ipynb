{
 "cells": [
  {
   "cell_type": "code",
   "execution_count": 1,
   "id": "53b1f939",
   "metadata": {},
   "outputs": [],
   "source": [
    "from kafka import KafkaConsumer\n",
    "import json"
   ]
  },
  {
   "cell_type": "code",
   "execution_count": 2,
   "id": "f4a07fb3",
   "metadata": {},
   "outputs": [],
   "source": [
    "topic_name = 'comments_hespress'"
   ]
  },
  {
   "cell_type": "code",
   "execution_count": 3,
   "id": "c4e1579f",
   "metadata": {
    "scrolled": true
   },
   "outputs": [],
   "source": [
    "#- Création d'un consommateur en utilisant Kafka\n",
    "consumer = KafkaConsumer(\n",
    "    topic_name,\n",
    "    bootstrap_servers = ['localhost:9092'],\n",
    "    auto_offset_reset = 'latest',\n",
    "    enable_auto_commit = True,\n",
    "    auto_commit_interval_ms = 5000,\n",
    "    fetch_max_bytes = 128,\n",
    "    max_poll_records = 100,\n",
    "    value_deserializer = lambda m: json.loads(m.decode('utf-8')))"
   ]
  }
 ],
 "metadata": {
  "kernelspec": {
   "display_name": "Python 3 (ipykernel)",
   "language": "python",
   "name": "python3"
  },
  "language_info": {
   "codemirror_mode": {
    "name": "ipython",
    "version": 3
   },
   "file_extension": ".py",
   "mimetype": "text/x-python",
   "name": "python",
   "nbconvert_exporter": "python",
   "pygments_lexer": "ipython3",
   "version": "3.9.12"
  }
 },
 "nbformat": 4,
 "nbformat_minor": 5
}
