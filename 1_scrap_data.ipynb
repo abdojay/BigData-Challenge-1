{
 "cells": [
  {
   "cell_type": "code",
   "execution_count": null,
   "id": "d852f5a6",
   "metadata": {},
   "outputs": [],
   "source": [
    "import requests\n",
    "from bs4 import BeautifulSoup\n",
    "from pymongo import MongoClient\n",
    "\n",
    "#- Connect to MonogoDB\n",
    "try:\n",
    "    #- Connect to the MongoDB instance\n",
    "    connection = MongoClient(\"mongodb://localhost:27017\")\n",
    "    #- Database name\n",
    "    database = connection['sentiments']\n",
    "    #- Collection name\n",
    "    comments_collection = database['comments']\n",
    "except:\n",
    "    print(\"[Error]: Failed to connect to database..\")\n",
    "    connection = None\n",
    "\n",
    "#- Définir l'URL du site\n",
    "url=\"https://www.hespress.com/%d8%a5%d8%af%d8%a7%d8%b1%d8%a9-%d8%a7%d9%84%d9%85%d8%ac%d8%a7%d9%84-%d8%a7%d9%84%d8%ac%d9%88%d9%8a-%d9%88%d8%aa%d8%b1%d8%b3%d9%8a%d9%85-%d8%a7%d9%84%d8%ad%d8%af%d9%88%d8%af-%d9%88%d8%a7%d9%84%d8%ac-1119029.html\"\n",
    "    \n",
    "#- Création d'une requête GET\n",
    "header = {'User-Agent': 'Mozilla/5.0 (Windows NT 6.1; WOW64) AppleWebKit/537.36 (KHTML, like Gecko) Chrome/56.0.2924.76 Safari/537.36'}\n",
    "response = requests.get(url, headers = header)\n",
    "\n",
    "#- On récupére le contenu HTML\n",
    "soup = BeautifulSoup(response.text, \"html.parser\")\n",
    "\n",
    "#- Extraire les éléments contenant la classe \"comments\"\n",
    "comments = soup.find_all(\"div\", class_=\"comments\")\n",
    "\n",
    "#- Initaliser un tableau dont on stocke le scrap des commentaires.\n",
    "comments_to_insert = []\n",
    "\n",
    "#- Itérer les commentaires pour extraire le contenu\n",
    "for comment in comments:\n",
    "    for ul in comment.find_all('ul'):\n",
    "        for li in ul.find_all('li'):\n",
    "            div_container = li.find('div', {'class': 'comment-body'})\n",
    "            div1 = div_container.find('div', {'class': 'comment-head'})\n",
    "            div2 = div_container.find('div', {'class': 'comment-text'})\n",
    "            comment_obj = {\"author\": div1.text.split(\"\\n\")[2], \"text\": div2.text}\n",
    "            comments_to_insert.append(comment_obj)\n",
    "            \n",
    "#- Insertion des données dans notre collection 'commentaire' en MongoDB\n",
    "if len(comments_to_insert) > 0:\n",
    "    comments_collection.insert_many(comments_to_insert)"
   ]
  },
  {
   "cell_type": "code",
   "execution_count": null,
   "id": "da3a9d07",
   "metadata": {},
   "outputs": [],
   "source": []
  }
 ],
 "metadata": {
  "kernelspec": {
   "display_name": "Python 3 (ipykernel)",
   "language": "python",
   "name": "python3"
  },
  "language_info": {
   "codemirror_mode": {
    "name": "ipython",
    "version": 3
   },
   "file_extension": ".py",
   "mimetype": "text/x-python",
   "name": "python",
   "nbconvert_exporter": "python",
   "pygments_lexer": "ipython3",
   "version": "3.9.12"
  }
 },
 "nbformat": 4,
 "nbformat_minor": 5
}
